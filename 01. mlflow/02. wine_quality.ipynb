{
 "cells": [
  {
   "cell_type": "markdown",
   "metadata": {},
   "source": [
    "# 와인 데이터\n",
    "\n",
    "- 와인의 등급에 영향을 미치는 성분들이 어떤 것들이 있는지 실험/연구 할 수 있는 데이터\n",
    "\n",
    "\n",
    "- 화이트 와인은 달까?\n",
    "- 와인의 등급에 영향을 미치는 성분들은 어떤 것이 있을까? => corr()\n",
    "- 9등급 와인과 3등급 와인의 각각 성분 차이가 가장 큰 값은 무엇인가?\n",
    "- 알콜 도수가 높을수록 와인 등급은 높아지는가?\n",
    "\n",
    "\n",
    "1. 라이브러리 import/ 데이터 로드\n",
    "2. 피처 엔지니어링 (데이터 EDA)\n",
    "3. 모델 설정 및 학습\n",
    "4. MLflow 설정 및 실행 => 메트릭, 파람 기록\n",
    "5. 모델 결과 출력 및 모델 저장"
   ]
  },
  {
   "cell_type": "code",
   "execution_count": 1,
   "metadata": {},
   "outputs": [],
   "source": [
    "# 필요한 import\n",
    "import pandas as pd\n",
    "import numpy as np\n",
    "import matplotlib.pyplot as plt"
   ]
  }
 ],
 "metadata": {
  "kernelspec": {
   "display_name": ".venv",
   "language": "python",
   "name": "python3"
  },
  "language_info": {
   "codemirror_mode": {
    "name": "ipython",
    "version": 3
   },
   "file_extension": ".py",
   "mimetype": "text/x-python",
   "name": "python",
   "nbconvert_exporter": "python",
   "pygments_lexer": "ipython3",
   "version": "3.12.2"
  }
 },
 "nbformat": 4,
 "nbformat_minor": 2
}
